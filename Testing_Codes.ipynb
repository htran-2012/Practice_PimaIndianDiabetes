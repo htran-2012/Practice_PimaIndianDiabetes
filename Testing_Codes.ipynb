{
 "cells": [
  {
   "cell_type": "code",
   "execution_count": null,
   "metadata": {},
   "outputs": [],
   "source": [
    "import pandas as pd\n",
    "import matplotlib.pyplot as plt\n",
    "import seaborn as sns\n",
    "import numpy as np\n",
    "import numpy.random as nr\n",
    "import math\n",
    "\n",
    "%matplotlib inline"
   ]
  },
  {
   "cell_type": "markdown",
   "metadata": {},
   "source": [
    "### Treat missing values by impute median"
   ]
  },
  {
   "cell_type": "code",
   "execution_count": null,
   "metadata": {},
   "outputs": [],
   "source": [
    "# Detect and treat missing values\n",
    "# Missing values in dataset is coded as 0\n",
    "# pid.replace(0, np.nan, inplace= True) # can replace missing value with this code\n",
    "# pid.isnull().sum() and sum up the null value with this code\n",
    " \n",
    "# Note: Too many dat missing in Skin and 2hrSerIns. \n",
    "# Try impute value for now\n",
    "# count the number of 0 value in dataset\n",
    "pid.isin([0]).sum()"
   ]
  },
  {
   "cell_type": "code",
   "execution_count": null,
   "metadata": {},
   "outputs": [],
   "source": [
    "# Impute missing values with feature's median\n",
    "\n",
    "def clean_missing(dataset, cols):\n",
    "    for col in cols:\n",
    "        median_col = dataset[col].median()\n",
    "        dataset[col] = dataset[col].replace(to_replace = 0, value = median_col)\n",
    "\n",
    "    return dataset\n"
   ]
  },
  {
   "cell_type": "code",
   "execution_count": null,
   "metadata": {},
   "outputs": [],
   "source": [
    "clean_missing(pid, [\"2hrGTT\", \"BP\",\n",
    "    \"Skin\", \"2hrSerIns\", \"BMI\",\n",
    "    \"DPF\", \"Age\"])"
   ]
  },
  {
   "cell_type": "code",
   "execution_count": null,
   "metadata": {},
   "outputs": [],
   "source": [
    "# Check whether there're remaining value = 0 in feature variables\n",
    "\n",
    "for col in feature_cols:\n",
    "    print('Column {} has {} value = 0'.format(col,pid[col].isin([0]).sum()))\n",
    "\n",
    "# keep value 0 in TimesPreg"
   ]
  },
  {
   "cell_type": "code",
   "execution_count": null,
   "metadata": {},
   "outputs": [],
   "source": [
    "# Visualize to check \n",
    "for col in feature_cols:\n",
    "    plot_histogram(pid, col)\n",
    "\n",
    "#A lot of features has a spike at median due to impute values"
   ]
  },
  {
   "cell_type": "markdown",
   "metadata": {},
   "source": [
    "### Treat missing value by IterativeImputer"
   ]
  },
  {
   "cell_type": "code",
   "execution_count": null,
   "metadata": {},
   "outputs": [],
   "source": [
    "X = pid[[\"TimesPreg\", \"2hrGTT\", \"BP\", \"Skin\", \"2hrSerIns\", \"BMI\", \"DPF\", \"Age\",]]\n",
    "y = pid['Target']\n",
    "X.shape, y.shape"
   ]
  },
  {
   "cell_type": "code",
   "execution_count": null,
   "metadata": {},
   "outputs": [],
   "source": [
    "impute_columns = [\"2hrGTT\", \"BP\", \"Skin\", \"2hrSerIns\", \"BMI\"]"
   ]
  },
  {
   "cell_type": "code",
   "execution_count": null,
   "metadata": {},
   "outputs": [],
   "source": [
    "iterimp = IterativeImputer(missing_values = np.nan, random_state=23)\n",
    "newX = iterimp.fit_transform(X[impute_columns]) #fit and transform missing values columns\n",
    "newXdf = pd.DataFrame(newX, columns = impute_columns) #create a new df from columns after impute\n",
    "newX = pd.concat([newXdf, X[[\"TimesPreg\", \"DPF\", \"Age\"]]], axis = 1) # concat new columns and columns not imputed"
   ]
  },
  {
   "cell_type": "code",
   "execution_count": null,
   "metadata": {},
   "outputs": [],
   "source": [
    "# Viz features before and after impute\n",
    "for col in newX.columns:\n",
    "    plt.hist(pid[col], bins = 50, label='pid dataset', color = 'r' , histtype = 'step')\n",
    "    plt.hist(newX[col], bins = 50, label='newX dataset', color = 'b', histtype = 'step')\n",
    "    plt.legend()\n",
    "    plt.title('value of ' + str(col))\n",
    "    plt.show()"
   ]
  },
  {
   "cell_type": "markdown",
   "metadata": {},
   "source": [
    "#### Solver and penalty for logreg"
   ]
  },
  {
   "cell_type": "code",
   "execution_count": null,
   "metadata": {},
   "outputs": [],
   "source": [
    "param_grid = [\n",
    "  {'penalty': ['l1'], 'solver': [ 'lbfgs', 'liblinear', 'sag', 'saga']},\n",
    "  {'penalty': ['l2'], 'solver': ['newton-cg']},\n",
    " ]"
   ]
  }
 ],
 "metadata": {
  "kernelspec": {
   "display_name": "Python 3",
   "language": "python",
   "name": "python3"
  },
  "language_info": {
   "codemirror_mode": {
    "name": "ipython",
    "version": 3
   },
   "file_extension": ".py",
   "mimetype": "text/x-python",
   "name": "python",
   "nbconvert_exporter": "python",
   "pygments_lexer": "ipython3",
   "version": "3.7.4"
  }
 },
 "nbformat": 4,
 "nbformat_minor": 2
}
